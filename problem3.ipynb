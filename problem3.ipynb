{
  "nbformat": 4,
  "nbformat_minor": 0,
  "metadata": {
    "colab": {
      "provenance": [],
      "authorship_tag": "ABX9TyM53SPW2jFbjpvSERKWjqmt",
      "include_colab_link": true
    },
    "kernelspec": {
      "name": "python3",
      "display_name": "Python 3"
    },
    "language_info": {
      "name": "python"
    }
  },
  "cells": [
    {
      "cell_type": "markdown",
      "metadata": {
        "id": "view-in-github",
        "colab_type": "text"
      },
      "source": [
        "<a href=\"https://colab.research.google.com/github/Sinthiahaque1/Sinthiahaque1/blob/main/problem3.ipynb\" target=\"_parent\"><img src=\"https://colab.research.google.com/assets/colab-badge.svg\" alt=\"Open In Colab\"/></a>"
      ]
    },
    {
      "cell_type": "markdown",
      "source": [
        "# **1**"
      ],
      "metadata": {
        "id": "61NF-aUNjvyA"
      }
    },
    {
      "cell_type": "code",
      "execution_count": null,
      "metadata": {
        "colab": {
          "base_uri": "https://localhost:8080/",
          "height": 106
        },
        "collapsed": true,
        "id": "gn4mBqThciIW",
        "outputId": "f01cbb72-c8b2-449b-906e-7748e382f0d6"
      },
      "outputs": [
        {
          "output_type": "error",
          "ename": "SyntaxError",
          "evalue": "invalid syntax (<ipython-input-9-a160587ce72b>, line 2)",
          "traceback": [
            "\u001b[0;36m  File \u001b[0;32m\"<ipython-input-9-a160587ce72b>\"\u001b[0;36m, line \u001b[0;32m2\u001b[0m\n\u001b[0;31m    int main(){\u001b[0m\n\u001b[0m        ^\u001b[0m\n\u001b[0;31mSyntaxError\u001b[0m\u001b[0;31m:\u001b[0m invalid syntax\n"
          ]
        }
      ],
      "source": [
        "#include <stdio.h>\n",
        "int main() {\n",
        "    int num;\n",
        "  printf(\"Enter a number: \");\n",
        "  scanf(\"%d\",&num);\n",
        "  if(num >= 0) {\n",
        "       printf(\"Positive\");\n",
        "  }\n",
        "  else {\n",
        "       printf(\"Negative\");\n",
        "  }\n",
        "return 0;\n",
        "}"
      ]
    },
    {
      "cell_type": "markdown",
      "source": [
        "# **2**"
      ],
      "metadata": {
        "id": "zDf-29OdkGju"
      }
    },
    {
      "cell_type": "code",
      "source": [
        "#include <stdio.h>\n",
        "int main() {\n",
        "  int num;\n",
        "    printf(\"Enter a number: \");\n",
        "    scanf(\"%d\",&num);\n",
        "    if(num%2 != 0) {\n",
        "       printf(\"Odd\");\n",
        "    }\n",
        "     else {\n",
        "        printf(\"Even\");\n",
        "    }\n",
        "return 0;\n",
        "}"
      ],
      "metadata": {
        "id": "4k3kF7HydFTK"
      },
      "execution_count": null,
      "outputs": []
    },
    {
      "cell_type": "markdown",
      "source": [
        "# **3**"
      ],
      "metadata": {
        "id": "kv2LCWEmkKs7"
      }
    },
    {
      "cell_type": "code",
      "source": [
        "#include <stdio.h>\n",
        "int main() {\n",
        " int num;\n",
        "    printf(\"Enter a number (0-9): \");\n",
        "    scanf(\"%d\",&num);\n",
        "    if (num == 0) {\n",
        "           printf(\"Zero\");\n",
        "    }\n",
        "    else if (num == 1) {\n",
        "           printf(\"One\");\n",
        "    }\n",
        "    else if (num == 2) {\n",
        "           printf(\"Two\");\n",
        "    }\n",
        "    else if (num == 3) {\n",
        "          printf(\"Three\");\n",
        "    }\n",
        "    else if (num == 4) {\n",
        "           printf(\"Four\");\n",
        "    }\n",
        "    else if (num == 5) {\n",
        "           printf(\"Five\");\n",
        "    }\n",
        "    else if (num == 6) {\n",
        "           printf(\"Six\");\n",
        "    }\n",
        "    else if (num == 7) {\n",
        "           printf(\"Seven\");\n",
        "    }\n",
        "    else if (num == 8) {\n",
        "           printf(\"Eight\");\n",
        "    }\n",
        "    else if (num == 9) {\n",
        "           printf(\"Nine\");\n",
        "    }\n",
        "    else {\n",
        "            printf(\"Enter a number between 0-9\");\n",
        "    }\n",
        "return 0;\n",
        "}"
      ],
      "metadata": {
        "id": "prR2ffighwpt"
      },
      "execution_count": null,
      "outputs": []
    },
    {
      "cell_type": "markdown",
      "source": [
        "# **4**"
      ],
      "metadata": {
        "id": "HJz6IOAhkNf5"
      }
    },
    {
      "cell_type": "code",
      "source": [
        "#include <stdio.h>\n",
        "int main() {\\\n",
        "  int x,y,z;\n",
        "     printf(\"Enter three number of a Triangle: \");\n",
        "     scanf(\"%d%d%d\",&x,&y,&z);\n",
        "     if(x+y+z == 180 && x !=0 && y !=0 && z != 0) {\n",
        "        printf(\"Yes, it's a Triangle\");\n",
        "     }\n",
        "     else {\n",
        "        printf(\"No\");\n",
        "     }\n",
        "return 0;\n",
        "}"
      ],
      "metadata": {
        "id": "6I_VHJR0h9dp"
      },
      "execution_count": null,
      "outputs": []
    },
    {
      "cell_type": "markdown",
      "source": [
        "# **5**"
      ],
      "metadata": {
        "id": "xXyS3TaQkOy9"
      }
    },
    {
      "cell_type": "code",
      "source": [
        "#include <stdio.h>\n",
        "int main() {\n",
        " int num;\n",
        "     printf(\"Enter a number: \");\n",
        "     scanf(\"%d\",&num);\n",
        "     if((num &(num-1))==0 && num>0) {\n",
        "        printf(\"Yes,it is power of 2\");\n",
        "     }\n",
        "     else {\n",
        "        printf(\"No,it's not.\");\n",
        "     }\n",
        "return 0;\n",
        "}"
      ],
      "metadata": {
        "id": "xBUKGNEDiCdC"
      },
      "execution_count": null,
      "outputs": []
    },
    {
      "cell_type": "markdown",
      "source": [
        "# **6**"
      ],
      "metadata": {
        "id": "zasX4YgJkhA5"
      }
    },
    {
      "cell_type": "code",
      "source": [
        "#include <stdio.h>\n",
        "int main() {\n",
        " int num;\n",
        "     printf(\"Enter a number: \");\n",
        "     scanf(\"%d\",&num);\n",
        "     if((num &(num-1))==0 && num>0) {\n",
        "        printf(\"Yes,it is power of 2\");\n",
        "     }\n",
        "     else if(num==0) {\n",
        "        printf(\"Zero is not a valid input\");\n",
        "     }\n",
        "     else if(num<0) {\n",
        "        printf(\"Negative input is not valid\");\n",
        "     }\n",
        "     else {\n",
        "        printf(\"No,it's not.\");\n",
        "     }\n",
        "return 0;\n",
        "}"
      ],
      "metadata": {
        "id": "iV2yTQixiHhe"
      },
      "execution_count": null,
      "outputs": []
    },
    {
      "cell_type": "markdown",
      "source": [
        "# **7**"
      ],
      "metadata": {
        "id": "hY1Q9OOikjV4"
      }
    },
    {
      "cell_type": "code",
      "source": [
        "#include <stdio.h>\n",
        "int main() {\n",
        "    int x,y;\n",
        "    printf(\"Input two numbers: \");\n",
        "    scanf(\"%d%d\",&x,&y);\n",
        "    if(x>y) {\n",
        "        printf(\"%d is Greater than %d\",x,y);\n",
        "    }\n",
        "     else if(x<y) {\n",
        "        printf(\"%d is less than %d\",x,y);\n",
        "    }\n",
        "     else {\n",
        "        printf(\"%d is equal to %d\",x,y);\n",
        "    }\n",
        "return 0;\n",
        "}"
      ],
      "metadata": {
        "id": "XLCGuhsEiOPp"
      },
      "execution_count": null,
      "outputs": []
    },
    {
      "cell_type": "markdown",
      "source": [
        "# **8**"
      ],
      "metadata": {
        "id": "oM9pXPriklIP"
      }
    },
    {
      "cell_type": "code",
      "source": [
        "#include <stdio.h>\n",
        "int main() {\n",
        "    int year;\n",
        "  printf(\"Enter a year: \");\n",
        "  scanf(\"%d\",&year);\n",
        "\n",
        "        if((year%4 ==0 && year %100 !=0)||(year%400 ==0)) {\n",
        "\n",
        "                printf(\"%d is a Leap year\",year);\n",
        "        }\n",
        "        else {\n",
        "    printf(\"%d is not a Leap year\",year);\n",
        "}\n",
        "return 0;\n",
        "}"
      ],
      "metadata": {
        "id": "-On5plGPikO0"
      },
      "execution_count": null,
      "outputs": []
    },
    {
      "cell_type": "markdown",
      "source": [
        "# **9**"
      ],
      "metadata": {
        "id": "sFoNCGW1knKB"
      }
    },
    {
      "cell_type": "code",
      "source": [
        "#include <stdio.h>\n",
        "int main() {\n",
        "    char num;\n",
        "  printf(\"Enter a key: \");\n",
        "  scanf(\"%s\",&num);\n",
        "        if((num >= 'a'&& num<='z') || (num>='A'&& num<='Z')) {\n",
        "\n",
        "                    printf(\"Alphabet\");\n",
        "        }\n",
        "        else if(num<='9' && num>='0') {\n",
        "\n",
        "                    printf(\"Digits\");\n",
        "        }\n",
        "        else {\n",
        "            printf(\"Special\");\n",
        "        }\n",
        "\n",
        "return 0;\n",
        "}"
      ],
      "metadata": {
        "id": "Z1sVclAviohZ"
      },
      "execution_count": null,
      "outputs": []
    },
    {
      "cell_type": "markdown",
      "source": [
        "# **10**"
      ],
      "metadata": {
        "id": "r4aE4Lz6kohj"
      }
    },
    {
      "cell_type": "code",
      "source": [
        "#include <stdio.h>\n",
        "int main() {\n",
        "    double num1,num2;\n",
        "    char ch;\n",
        "  printf(\"Enter a number: \");\n",
        "  scanf(\"%lf %c %lf\",&num1 ,&ch ,&num2);\n",
        "\n",
        "  if(ch == '+') {\n",
        "\n",
        "        printf(\"Addition: %.2lf\",num1+num2);\n",
        "  }\n",
        "  else if(ch == '-') {\n",
        "        printf(\"Subtraction: %.2lf\",num1-num2);\n",
        "  }\n",
        "  else if(ch == '*') {\n",
        "        printf(\"Multipication: %.2lf\",num1*num2);\n",
        "  }\n",
        "  else if(ch == '/') {\n",
        "        if(num2 == 0){\n",
        "            printf(\"Divison: Zero as divisor is not valid!\");\n",
        "        }\n",
        "        else {\n",
        "          printf(\"Divison: %.2lf\",num1/num2);\n",
        "        }\n",
        "  }\n",
        "\n",
        "  else {\n",
        "    printf(\"Invalid oparator\");\n",
        "  }\n",
        "return 0;\n",
        "}"
      ],
      "metadata": {
        "id": "FAIE-BU5iuVn"
      },
      "execution_count": null,
      "outputs": []
    },
    {
      "cell_type": "markdown",
      "source": [
        "# **11**"
      ],
      "metadata": {
        "id": "rdMJXqNrkqQR"
      }
    },
    {
      "cell_type": "code",
      "source": [
        "#include <stdio.h>\n",
        "\n",
        "int main() {\n",
        "\n",
        "  float num;\n",
        "      printf(\"Enter your total Marks: \");\n",
        "      scanf(\"%f\",&num);\n",
        "\n",
        "      if(num >=90 && num <= 100) {\n",
        "                printf(\"Grade: A+\\n\");\n",
        "      }\n",
        "      else if(num>=86 && num<90) {\n",
        "                printf(\"Grade: A-\\n\");\n",
        "      }\n",
        "      else if(num>=82 && num<96) {\n",
        "                printf(\"Grade: B+\\n\");\n",
        "      }\n",
        "      else if(num>=78 && num<82) {\n",
        "                printf(\"Grade: B\\n\");\n",
        "      }\n",
        "      else if(num>=74 && num<78) {\n",
        "                printf(\"Grade: B-\\n\");\n",
        "      }\n",
        "      else if(num>=70 && num<74) {\n",
        "                printf(\"Grade: C+\\n\");\n",
        "      }\n",
        "      else if(num>=66 && num<70) {\n",
        "                printf(\"Grade: C\\n\");\n",
        "      }\n",
        "      else if(num>=62 && num<66) {\n",
        "                printf(\"Grade: C-\\n\");\n",
        "      }\n",
        "      else if(num>=58 && num<62) {\n",
        "                printf(\"Grade: D+\\n\");\n",
        "      }\n",
        "      else if(num>=55 && num<58) {\n",
        "                printf(\"Grade: D\\n\");\n",
        "      }\n",
        "\n",
        "      else {\n",
        "\n",
        "                printf(\"Grade: F\\n\");\n",
        "      }\n",
        "return 0;\n",
        "}"
      ],
      "metadata": {
        "id": "gmU21BTmizyM"
      },
      "execution_count": null,
      "outputs": []
    },
    {
      "cell_type": "markdown",
      "source": [
        "# **12**"
      ],
      "metadata": {
        "id": "19rFFQinkruB"
      }
    },
    {
      "cell_type": "code",
      "source": [
        "#include <stdio.h>\n",
        "int main() {\n",
        "\n",
        "    double a,b;\n",
        "      double num,num2;\n",
        "\n",
        "      printf(\"Enter two real number: \");\n",
        "      scanf(\"%f%f\",&a,&b);\n",
        "\n",
        "    printf(\"\\nMenu:\\n\");\n",
        "    printf(\"1. Addition\\n\");\n",
        "    printf(\"2. Subtraction\\n\");\n",
        "    printf(\"3. Multiplication\\n\");\n",
        "    printf(\"4. Division\\n\");\n",
        "\n",
        "      printf(\"Enter your choice (1-4): \");\n",
        "      scanf(\"%lf\",&num);\n",
        "\n",
        "      if (num == 1)  {\n",
        "\n",
        "          printf(\"\\nAddition:%.2f\\n\",a+b);\n",
        "      }\n",
        "    else if (num == 2) {\n",
        "\n",
        "          printf(\"\\nSubtraction:%.2f\\n\",a-b);\n",
        "      }\n",
        "      else if (num == 3) {\n",
        "\n",
        "          printf(\"\\nMultipication:%.2f\\n\",a*b);\n",
        "      }\n",
        "      else if (num == 4) {\n",
        "            printf(\"\\nQuotient:%.0lf\\n\",a/b);\n",
        "\n",
        "      }\n",
        "\n",
        "      else {\n",
        "\n",
        "        printf(\"\\nInput 1-4 as choose\\n\");\n",
        "      }\n",
        "return 0;\n",
        "}"
      ],
      "metadata": {
        "id": "Q1akKJyOjEuy"
      },
      "execution_count": null,
      "outputs": []
    },
    {
      "cell_type": "markdown",
      "source": [
        "# **13**"
      ],
      "metadata": {
        "id": "KoeCJ50Bkt04"
      }
    },
    {
      "cell_type": "code",
      "source": [
        "#include <stdio.h>\n",
        "int main() {\n",
        "      float a,b;\n",
        "      double num,num2;\n",
        "\n",
        "      printf(\"Enter two real number: \");\n",
        "      scanf(\"%f%f\",&a,&b);\n",
        "\n",
        "    printf(\"\\nMenu:\\n\");\n",
        "    printf(\"1. Addition\\n\");\n",
        "    printf(\"2. Subtraction\\n\");\n",
        "    printf(\"3. Multiplication\\n\");\n",
        "    printf(\"4. Division\\n\");\n",
        "\n",
        "      printf(\"Enter your choice (1-4): \");\n",
        "      scanf(\"%lf\",&num);\n",
        "\n",
        "      if (num == 1)  {\n",
        "\n",
        "          printf(\"\\nAddition:%.2f\\n\",a+b);\n",
        "      }\n",
        "    else if (num == 2) {\n",
        "\n",
        "          printf(\"\\nSubtraction:%.2f\\n\",a-b);\n",
        "      }\n",
        "      else if (num == 3) {\n",
        "\n",
        "          printf(\"\\nMultipication:%.2f\\n\",a*b);\n",
        "      }\n",
        "      else if (num == 4) {\n",
        "                printf(\"\\nSelect further operation for division:\\n\");\n",
        "                printf(\"1. Quotient\\n\");\n",
        "                printf(\"2. Remainder\\n\");\n",
        "                printf(\"Enter your choice (1 or 2): \");\n",
        "                    scanf(\"%lf\",&num2);\n",
        "\n",
        "                    if(num2 == 1) {\n",
        "\n",
        "                        printf(\"\\nQuotient:%.0f\\n\",a/b);\n",
        "                    }\n",
        "                    else if(num2==2) {\n",
        "                        printf(\"\\nReminder:%.f\\n\",(int)a%(int)b);\n",
        "                    }\n",
        "                    else{\n",
        "                        printf(\"\\nInvalid choice!\\n\");\n",
        "                    }\n",
        "            }\n",
        "      else {\n",
        "\n",
        "        printf(\"\\nInput 1-4 as choose\\n\");\n",
        "      }\n",
        "return 0;\n",
        "}\n"
      ],
      "metadata": {
        "id": "EsYwgfoDjJu6"
      },
      "execution_count": null,
      "outputs": []
    },
    {
      "cell_type": "markdown",
      "source": [
        "# **14**"
      ],
      "metadata": {
        "id": "LnrvrjkdkvXo"
      }
    },
    {
      "cell_type": "code",
      "source": [
        "#include <stdio.h>\n",
        "int main() {\n",
        "      float a,b;\n",
        "      double num,num2;\n",
        "\n",
        "      printf(\"Enter two real number: \");\n",
        "      scanf(\"%f%f\",&a,&b);\n",
        "\n",
        "    printf(\"\\nMenu:\\n\");\n",
        "    printf(\"1. Addition\\n\");\n",
        "    printf(\"2. Subtraction\\n\");\n",
        "    printf(\"3. Multiplication\\n\");\n",
        "    printf(\"4. Division\\n\");\n",
        "\n",
        "      printf(\"Enter your choice (1-4): \");\n",
        "      scanf(\"%lf\",&num);\n",
        "\n",
        "      if (num == 1)  {\n",
        "\n",
        "          printf(\"\\nAddition:%.2f\\n\",a+b);\n",
        "      }\n",
        "    else if (num == 2) {\n",
        "\n",
        "          printf(\"\\nSubtraction:%.2f\\n\",a-b);\n",
        "      }\n",
        "      else if (num == 3) {\n",
        "\n",
        "          printf(\"\\nMultipication:%.2f\\n\",a*b);\n",
        "      }\n",
        "      else if (num == 4) {\n",
        "            if(b==0) {\n",
        "                printf(\"\\nError: Divisor is zero\\n\");\n",
        "            }\n",
        "            else {\n",
        "\n",
        "                printf(\"\\nSelect further operation for division:\\n\");\n",
        "                printf(\"1. Quotient\\n\");\n",
        "                printf(\"2. Remainder\\n\");\n",
        "                printf(\"Enter your choice (1 or 2): \");\n",
        "                    scanf(\"%lf\",&num2);\n",
        "\n",
        "                    if(num2 == 1) {\n",
        "\n",
        "                        printf(\"\\nQuotient:%.0f\\n\",a/b);\n",
        "                    }\n",
        "                    else if(num2==2) {\n",
        "                        printf(\"\\nReminder:%.f\\n\",(int)a%(int)b);\n",
        "                    }\n",
        "                    else{\n",
        "                        printf(\"\\nInvalid choice!\\n\");\n",
        "                    }\n",
        "            }\n",
        "            }\n",
        "      else {\n",
        "        printf(\"\\nInput 1-4 as choose\\n\");\n",
        "      }\n",
        "return 0;\n",
        "}"
      ],
      "metadata": {
        "id": "BoswyLjVjQxk"
      },
      "execution_count": null,
      "outputs": []
    },
    {
      "cell_type": "markdown",
      "source": [
        "# **15**"
      ],
      "metadata": {
        "id": "vw4v5jGFkz0V"
      }
    },
    {
      "cell_type": "code",
      "source": [
        "#include <stdio.h>\n",
        "int main() {\n",
        "    int X, n1, n2, n3;\n",
        "    int flag = 0;\n",
        "\n",
        "    printf(\"Enter the number (X): \");\n",
        "    scanf(\"%d\", &X);\n",
        "\n",
        "    printf(\"Enter the number  guesses (n1): \");\n",
        "    scanf(\"%d\", &n1);\n",
        "\n",
        "    if (flag == 0) {\n",
        "        if (n1 == X) {\n",
        "            printf(\"Right, Player-2 wins!\\n\");\n",
        "            flag = 1;\n",
        "        } else {\n",
        "            printf(\"Wrong, 2 Chance(s) Left!\\n\");\n",
        "        }\n",
        "    }\n",
        "            printf(\"\\nEnter the number guesses (n2):\");\n",
        "            scanf(\"%d\", &n2);\n",
        "\n",
        "    if (flag == 0) {\n",
        "        if (n2 == X) {\n",
        "            printf(\"Right, Player-2 wins!\\n\");\n",
        "            flag = 1;\n",
        "        } else {\n",
        "            printf(\"Wrong, 1 Chance(s) Left!\\n\");\n",
        "        }\n",
        "    }\n",
        "            printf(\"\\nEnter the number guesses (n3):\");\n",
        "            scanf(\"%d\", &n3);\n",
        "\n",
        "    if (flag == 0) {\n",
        "        if (n3 == X) {\n",
        "            printf(\"Right, Player-2 wins!\\n\");\n",
        "            flag = 1;\n",
        "        } else {\n",
        "            printf(\"Wrong, 0 Chance(s) Left!\\n\");\n",
        "            printf(\"Player-1 wins!\\n\");\n",
        "        }\n",
        "    }\n",
        "    return 0;\n",
        "}"
      ],
      "metadata": {
        "id": "ZM1YR1Bjk1rN"
      },
      "execution_count": null,
      "outputs": []
    }
  ]
}