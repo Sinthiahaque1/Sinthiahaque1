{
  "cells": [
    {
      "cell_type": "markdown",
      "metadata": {
        "id": "view-in-github",
        "colab_type": "text"
      },
      "source": [
        "<a href=\"https://colab.research.google.com/github/Sinthiahaque1/Sinthiahaque1/blob/main/docs/tutorials/google/colab.ipynb\" target=\"_parent\"><img src=\"https://colab.research.google.com/assets/colab-badge.svg\" alt=\"Open In Colab\"/></a>"
      ]
    },
    {
      "cell_type": "markdown",
      "metadata": {
        "id": "fe7e28f44667"
      },
      "source": [
        "## Sinthia ECSE\n"
      ]
    },
    {
      "cell_type": "code",
      "execution_count": 3,
      "metadata": {
        "id": "xujtwGxt8fOA",
        "outputId": "00a0ef48-e428-4d26-feb6-c73a5a841ba0",
        "colab": {
          "base_uri": "https://localhost:8080/"
        }
      },
      "outputs": [
        {
          "output_type": "stream",
          "name": "stdout",
          "text": [
            "1 0\n",
            "2 0.6\n",
            "3 0.744\n",
            "4 0.8214144000000001\n",
            "5 0.8698886466109441\n",
            "6 0.902682503001048\n",
            "7 0.925934280489695\n",
            "8 0.9429417167143876\n",
            "9 0.9556556324481106\n",
            "9 0.9653110751319194\n"
          ]
        }
      ],
      "source": [
        "x=0\n",
        "for iteration in range(1,10):\n",
        "  print(iteration,x)\n",
        "  xnew =(2*x**2+3)/5 # Removed extra space at the beginning of this line\n",
        "  if x==xnew:\n",
        "    break\n",
        "  x=xnew\n",
        "\n",
        "print(iteration, xnew)"
      ]
    }
  ],
  "metadata": {
    "colab": {
      "name": "colab.ipynb",
      "toc_visible": true,
      "provenance": [],
      "include_colab_link": true
    },
    "kernelspec": {
      "display_name": "Python 3",
      "name": "python3"
    }
  },
  "nbformat": 4,
  "nbformat_minor": 0
}