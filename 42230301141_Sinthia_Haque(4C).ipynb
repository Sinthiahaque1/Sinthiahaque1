{
  "nbformat": 4,
  "nbformat_minor": 0,
  "metadata": {
    "colab": {
      "provenance": [],
      "authorship_tag": "ABX9TyMOkT72X58uP3aAXtfixw8f",
      "include_colab_link": true
    },
    "kernelspec": {
      "name": "python3",
      "display_name": "Python 3"
    },
    "language_info": {
      "name": "python"
    }
  },
  "cells": [
    {
      "cell_type": "markdown",
      "metadata": {
        "id": "view-in-github",
        "colab_type": "text"
      },
      "source": [
        "<a href=\"https://colab.research.google.com/github/Sinthiahaque1/Sinthiahaque1/blob/main/42230301141_Sinthia_Haque(4C).ipynb\" target=\"_parent\"><img src=\"https://colab.research.google.com/assets/colab-badge.svg\" alt=\"Open In Colab\"/></a>"
      ]
    },
    {
      "cell_type": "markdown",
      "source": [
        "Assignment:Newton Rahson Method\n",
        "\n",
        "Name:Sinthia Haque\n",
        "\n",
        "ID:42230301141\n",
        "\n"
      ],
      "metadata": {
        "id": "chUCEmsK3230"
      }
    },
    {
      "cell_type": "code",
      "source": [
        "#Newton Raphson\n",
        "x = 0\n",
        "for iteration in range(1, 101):\n",
        "    print(iteration, x)\n",
        "    Xnew = x - (2 * x**2 - 5 * x + 3) / (4 * x - 5)\n",
        "    if x == Xnew:\n",
        "        break\n",
        "    x = Xnew\n",
        "print(iteration, Xnew)"
      ],
      "metadata": {
        "colab": {
          "base_uri": "https://localhost:8080/"
        },
        "id": "PDRN1gnB4YjY",
        "outputId": "9f4ee939-38f0-4ad3-be03-a7c46866ab3f"
      },
      "execution_count": 2,
      "outputs": [
        {
          "output_type": "stream",
          "name": "stdout",
          "text": [
            "1 0\n",
            "2 0.6\n",
            "3 0.8769230769230768\n",
            "4 0.9796986518636004\n",
            "5 0.9992376199027553\n",
            "6 0.9999988410873017\n",
            "7 0.9999999999973136\n",
            "8 0.9999999999999999\n",
            "9 1.0000000000000002\n",
            "9 1.0000000000000002\n"
          ]
        }
      ]
    }
  ]
}