{
  "nbformat": 4,
  "nbformat_minor": 0,
  "metadata": {
    "colab": {
      "provenance": [],
      "include_colab_link": true
    },
    "kernelspec": {
      "name": "python3",
      "display_name": "Python 3"
    },
    "language_info": {
      "name": "python"
    }
  },
  "cells": [
    {
      "cell_type": "markdown",
      "metadata": {
        "id": "view-in-github",
        "colab_type": "text"
      },
      "source": [
        "<a href=\"https://colab.research.google.com/github/Sinthiahaque1/Sinthiahaque1/blob/main/42230301141_Sinthia_Haque.ipynb\" target=\"_parent\"><img src=\"https://colab.research.google.com/assets/colab-badge.svg\" alt=\"Open In Colab\"/></a>"
      ]
    },
    {
      "cell_type": "markdown",
      "source": [
        "# **Assignment = Simple Iteration Method**\n",
        "Name : Sinthia Haque\n",
        "\n",
        "Id : 42230301141(4C)\n"
      ],
      "metadata": {
        "id": "CtaB0K9zxemg"
      }
    },
    {
      "cell_type": "code",
      "execution_count": null,
      "metadata": {
        "id": "xujtwGxt8fOA",
        "collapsed": true,
        "outputId": "1cbe6391-21cf-4379-cf7b-662e3902b497",
        "colab": {
          "base_uri": "https://localhost:8080/"
        }
      },
      "outputs": [
        {
          "output_type": "stream",
          "name": "stdout",
          "text": [
            "1 0\n",
            "2 0.6\n",
            "3 0.744\n",
            "4 0.8214144000000001\n",
            "5 0.8698886466109441\n",
            "6 0.902682503001048\n",
            "7 0.925934280489695\n",
            "8 0.9429417167143876\n",
            "9 0.9556556324481106\n",
            "9 0.9653110751319194\n"
          ]
        }
      ],
      "source": [
        "x=0\n",
        "for iteration in range(1,10):\n",
        "  print(iteration,x)\n",
        "  xnew =(2*x**2+3)/5\n",
        "  if x==xnew:\n",
        "    break\n",
        "  x=xnew\n",
        "\n",
        "print(iteration, xnew)"
      ]
    }
  ]
}