{
  "nbformat": 4,
  "nbformat_minor": 0,
  "metadata": {
    "colab": {
      "provenance": [],
      "authorship_tag": "ABX9TyO3gh/TGNTRz8CmItHVMSiD",
      "include_colab_link": true
    },
    "kernelspec": {
      "name": "python3",
      "display_name": "Python 3"
    },
    "language_info": {
      "name": "python"
    }
  },
  "cells": [
    {
      "cell_type": "markdown",
      "metadata": {
        "id": "view-in-github",
        "colab_type": "text"
      },
      "source": [
        "<a href=\"https://colab.research.google.com/github/Sinthiahaque1/Sinthiahaque1/blob/main/Untitled2.ipynb\" target=\"_parent\"><img src=\"https://colab.research.google.com/assets/colab-badge.svg\" alt=\"Open In Colab\"/></a>"
      ]
    },
    {
      "cell_type": "markdown",
      "source": [
        "Assignment:Biosection Method\n",
        "\n",
        "\n",
        "Name:Sinthia Haque\n",
        "\n",
        "\n",
        "ID:42230301141(4C)\n",
        "\n"
      ],
      "metadata": {
        "id": "VQO1C8p_saB5"
      }
    },
    {
      "cell_type": "code",
      "source": [
        "x1 = 0\n",
        "x2 = 1.2\n",
        "\n",
        "y1 = 2 * x1**2 - 5 * x1 + 3\n",
        "y2 = 2 * x2**2 - 5 * x2 + 3\n",
        "\n",
        "if y1 * y2 > 0:\n",
        "    print(\"No roots\")\n",
        "    exit()\n",
        "\n",
        "for i in range(1, 101):\n",
        "    xh = (x1 + x2) / 2\n",
        "    yh = 2 * xh**2 - 5 * xh + 3\n",
        "    y1 = 2 * x1**2 - 5 * x1 + 3\n",
        "\n",
        "    if abs(yh) < 1.0e-6:\n",
        "        break\n",
        "    elif y1 * yh < 0:\n",
        "        x2 = xh\n",
        "    else:\n",
        "        x1 = xh\n",
        "\n",
        "print(f\"The root is: {x1:.10f}\")\n"
      ],
      "metadata": {
        "colab": {
          "base_uri": "https://localhost:8080/"
        },
        "id": "qSjF-TzfsX5D",
        "outputId": "3ebbaa45-a2e2-4ef7-b3f2-b1ec7f1b9db0"
      },
      "execution_count": 14,
      "outputs": [
        {
          "output_type": "stream",
          "name": "stdout",
          "text": [
            "The root is: 0.9999984741\n"
          ]
        }
      ]
    }
  ]
}